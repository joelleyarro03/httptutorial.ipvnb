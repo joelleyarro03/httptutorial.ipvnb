{
 "cells": [
  {
   "cell_type": "code",
   "execution_count": 2,
   "metadata": {},
   "outputs": [
    {
     "name": "stdout",
     "output_type": "stream",
     "text": [
      "Hello, Houston!\n"
     ]
    }
   ],
   "source": [
    "# Working With Strings\n",
    "# Concatenating Strings\n",
    "# To join strings together:\n",
    "\n",
    "greeting = \"Hello\"\n",
    "name = \"Houston\"\n",
    "message = greeting + \", \" + name + \"!\"\n",
    "print(message)"
   ]
  },
  {
   "cell_type": "code",
   "execution_count": 3,
   "metadata": {},
   "outputs": [
    {
     "name": "stdout",
     "output_type": "stream",
     "text": [
      "Hello, Houston. Welcome!\n"
     ]
    }
   ],
   "source": [
    "# String Formatting with str.format\n",
    "# To insert values into a string template:\n",
    "message = \"{}, {}. Welcome!\".format(greeting, name)\n",
    "print(message)"
   ]
  },
  {
   "cell_type": "code",
   "execution_count": 4,
   "metadata": {},
   "outputs": [
    {
     "name": "stdout",
     "output_type": "stream",
     "text": [
      "Hello, Houston. Welcome!\n",
      "{greeting}, {name}. Welcome!\n"
     ]
    }
   ],
   "source": [
    "# Formatted String Literals (f-strings)\n",
    "# To embed expressions inside string literals (Python 3.6+):\n",
    "message = f\"{greeting}, {name}. Welcome!\"\n",
    "messagenew = \"{greeting}, {name}. Welcome!\"\n",
    "print(message)\n",
    "print(messagenew)"
   ]
  },
  {
   "cell_type": "code",
   "execution_count": 5,
   "metadata": {},
   "outputs": [
    {
     "name": "stdout",
     "output_type": "stream",
     "text": [
      "SPANDA!\n",
      "spanda!\n",
      "Spanda!\n"
     ]
    }
   ],
   "source": [
    "# String Methods — Case Conversion\n",
    "# To change the case of a string:\n",
    "s = \"Spanda!\"\n",
    "print(s.upper())  # Uppercase\n",
    "print(s.lower())  # Lowercase\n",
    "print(s.title())  # Title Case"
   ]
  },
  {
   "cell_type": "code",
   "execution_count": 8,
   "metadata": {},
   "outputs": [
    {
     "name": "stdout",
     "output_type": "stream",
     "text": [
      "trim me end\n",
      "   trim me end\n",
      "trim me    end\n"
     ]
    }
   ],
   "source": [
    "# tring Methods — strip, rstrip, lstrip\n",
    "# To remove whitespace or specific characters from the ends of a string:\n",
    "s = \"   trim me   \"\n",
    "print(s.strip(), \"end\")   # Both ends\n",
    "print(s.rstrip(), \"end\")  # Right end\n",
    "print(s.lstrip(), \"end\")  # Left end"
   ]
  },
  {
   "cell_type": "code",
   "execution_count": 9,
   "metadata": {},
   "outputs": [
    {
     "name": "stdout",
     "output_type": "stream",
     "text": [
      "True\n",
      "True\n",
      "False\n",
      "False\n"
     ]
    }
   ],
   "source": [
    "# String Methods — startswith, endswith\n",
    "# To check the start or end of a string for specific text:\n",
    "s = \"AI/ML is the future\"\n",
    "print(s.startswith(\"AI\"))  # True\n",
    "print(s.endswith(\"ure\"))    # True\n",
    "print(s.startswith(\"abc\"))  # False\n",
    "print(s.endswith(\"xyz\"))    # False"
   ]
  },
  {
   "cell_type": "code",
   "execution_count": 9,
   "metadata": {},
   "outputs": [
    {
     "name": "stdout",
     "output_type": "stream",
     "text": [
      "['split', 'this', 'string']\n",
      "split this string\n",
      "['Split', 'This', 'String']\n",
      "Split This String\n"
     ]
    }
   ],
   "source": [
    "# String Methods — split, join\n",
    "# To split a string into a list or join a list into a string:\n",
    "s = \"split,this,string\"\n",
    "words = s.split(\",\")        # Split string into list\n",
    "joined = \" \".join(words)    # Join list into string\n",
    "print(words)\n",
    "print(joined)\n",
    "\n",
    "s = \"Split|This|String\"\n",
    "words2 = s.split(\"|\")        # Split string into list\n",
    "joined2 = \" \".join(words2)    # Join list into string\n",
    "print(words2)\n",
    "print(joined2)\n"
   ]
  },
  {
   "cell_type": "code",
   "execution_count": 10,
   "metadata": {},
   "outputs": [
    {
     "name": "stdout",
     "output_type": "stream",
     "text": [
      "Hello world!\n",
      "Hello Python!\n"
     ]
    }
   ],
   "source": [
    "# String Methods — replace\n",
    "# To replace parts of a string with another string:\n",
    "s = \"Hello world!\"\n",
    "print(s)\n",
    "new_s = s.replace(\"world\", \"Python\")\n",
    "print(new_s)"
   ]
  },
  {
   "cell_type": "code",
   "execution_count": 11,
   "metadata": {},
   "outputs": [
    {
     "name": "stdout",
     "output_type": "stream",
     "text": [
      "11\n",
      "11\n"
     ]
    }
   ],
   "source": [
    "# String Methods — find, index\n",
    "# To find the position of a substring within a string:\n",
    "s = \"look for a substring\"\n",
    "position = s.find(\"substring\")  # Returns -1 if not found\n",
    "index = s.index(\"substring\")    # Raises ValueError if not found\n",
    "print(position)\n",
    "print(index)\n",
    "# indexerr = s.index(\"substring1\")\n",
    "# print(indexerr)"
   ]
  },
  {
   "cell_type": "code",
   "execution_count": 12,
   "metadata": {},
   "outputs": [
    {
     "name": "stdout",
     "output_type": "stream",
     "text": [
      "S\n",
      "p\n",
      "a\n",
      "n\n",
      "d\n",
      "a\n"
     ]
    }
   ],
   "source": [
    "# String Methods — Working with Characters\n",
    "# To process individual characters in a string:\n",
    "\n",
    "s = \"Spanda\"\n",
    "for char in s:\n",
    "    print(char)  # Prints each character on a new line\n"
   ]
  },
  {
   "cell_type": "code",
   "execution_count": 13,
   "metadata": {},
   "outputs": [
    {
     "name": "stdout",
     "output_type": "stream",
     "text": [
      "True\n",
      "True\n",
      "True\n"
     ]
    }
   ],
   "source": [
    "# String Methods — isdigit, isalpha, isalnum\n",
    "# To check if a string contains only digits, alphabetic characters, or alphanumeric characters:\n",
    "print(\"123\".isdigit())   # True\n",
    "print(\"abc\".isalpha())   # True\n",
    "print(\"abc123\".isalnum())# True"
   ]
  },
  {
   "cell_type": "code",
   "execution_count": 14,
   "metadata": {},
   "outputs": [
    {
     "name": "stdout",
     "output_type": "stream",
     "text": [
      "iced \n",
      "string\n"
     ]
    }
   ],
   "source": [
    "# String Slicing\n",
    "# To extract a substring using slicing:\n",
    "s = \"sliced string\"\n",
    "sub1 = s[2:7]  # From 3rd to 7th character\n",
    "sub2 = s[7:]  # From 3rd to 7th character\n",
    "print(sub1)\n",
    "print(sub2)"
   ]
  },
  {
   "cell_type": "code",
   "execution_count": 15,
   "metadata": {},
   "outputs": [
    {
     "name": "stdout",
     "output_type": "stream",
     "text": [
      "13\n"
     ]
    }
   ],
   "source": [
    "# String Length with len\n",
    "# To get the length of a string:\n",
    "s = \"string length\"\n",
    "print(len(s))  # 13"
   ]
  },
  {
   "cell_type": "code",
   "execution_count": 17,
   "metadata": {},
   "outputs": [
    {
     "name": "stdout",
     "output_type": "stream",
     "text": [
      "Line one\n",
      "Line two\n",
      "Line three\n"
     ]
    },
    {
     "data": {
      "text/plain": [
       "'hello this is Anna'"
      ]
     },
     "execution_count": 17,
     "metadata": {},
     "output_type": "execute_result"
    }
   ],
   "source": [
    "# Multiline Strings\n",
    "# To work with strings spanning multiple lines:\n",
    "multi = \"\"\"Line one\n",
    "Line two\n",
    "Line three\"\"\"\n",
    "print(multi)\n",
    "'''hello this is Anna'''\n"
   ]
  },
  {
   "cell_type": "code",
   "execution_count": 18,
   "metadata": {},
   "outputs": [
    {
     "name": "stdout",
     "output_type": "stream",
     "text": [
      "C:\\User\\name\\folder\n",
      "C:\\User\\name\\folder\n"
     ]
    }
   ],
   "source": [
    "# Raw Strings\n",
    "# To treat backslashes as literal characters, useful for regex patterns and file paths:\n",
    "# The \"r\" before a string literal in Python denotes a raw string. \n",
    "# In raw strings, backslashes are treated as literal characters and are not interpreted as escape characters.\n",
    "path = r\"C:\\User\\name\\folder\"\n",
    "print(path)\n",
    "\n",
    "pathnew = \"C:\\\\User\\\\name\\\\folder\"\n",
    "print(pathnew)"
   ]
  }
 ],
 "metadata": {
  "kernelspec": {
   "display_name": "Python 3",
   "language": "python",
   "name": "python3"
  },
  "language_info": {
   "codemirror_mode": {
    "name": "ipython",
    "version": 3
   },
   "file_extension": ".py",
   "mimetype": "text/x-python",
   "name": "python",
   "nbconvert_exporter": "python",
   "pygments_lexer": "ipython3",
   "version": "3.13.6"
  }
 },
 "nbformat": 4,
 "nbformat_minor": 2
}

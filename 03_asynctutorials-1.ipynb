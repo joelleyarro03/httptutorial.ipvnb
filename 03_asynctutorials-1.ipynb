{
 "cells": [
  {
   "cell_type": "code",
   "execution_count": 1,
   "metadata": {},
   "outputs": [
    {
     "name": "stdout",
     "output_type": "stream",
     "text": [
      "Fetching data...\n",
      "Data fetched.\n",
      "Processing data...\n",
      "Data processed.\n"
     ]
    }
   ],
   "source": [
    "import time\n",
    "\n",
    "def fetch_data_sync():\n",
    "    print(\"Fetching data...\")\n",
    "    time.sleep(3)  # Simulating a blocking task\n",
    "    print(\"Data fetched.\")\n",
    "\n",
    "def process_sync():\n",
    "    print(\"Processing data...\")\n",
    "    time.sleep(2)\n",
    "    print(\"Data processed.\")\n",
    "\n",
    "def main_sync():\n",
    "    fetch_data_sync()  # Blocking task\n",
    "    process_sync()     # Will only run after fetch_data_sync is complete\n",
    "\n",
    "main_sync()\n"
   ]
  },
  {
   "cell_type": "code",
   "execution_count": 2,
   "metadata": {},
   "outputs": [
    {
     "name": "stdout",
     "output_type": "stream",
     "text": [
      "[2025-09-04 21:50:29.715013] Fetching data...\n",
      "[2025-09-04 21:50:29.715202] Processing data...\n",
      "Data processed.\n",
      "[2025-09-04 21:50:31.729534] Data processed. Time elapsed: 2.01 seconds.\n",
      "[2025-09-04 21:50:32.715301] Data fetched. Time elapsed: 3.00 seconds.\n"
     ]
    },
    {
     "data": {
      "text/plain": [
       "[None, None]"
      ]
     },
     "execution_count": 2,
     "metadata": {},
     "output_type": "execute_result"
    }
   ],
   "source": [
    "import asyncio\n",
    "import time\n",
    "from datetime import datetime\n",
    "\n",
    "async def fetch_data_async():\n",
    "    start_time = time.time()\n",
    "    print(f\"[{datetime.now()}] Fetching data...\")\n",
    "    await asyncio.sleep(3)  # Non-blocking sleep\n",
    "    end_time = time.time()\n",
    "    print(f\"[{datetime.now()}] Data fetched. Time elapsed: {end_time - start_time:.2f} seconds.\")\n",
    "\n",
    "async def process_async():\n",
    "    start_time = time.time()\n",
    "    print(f\"[{datetime.now()}] Processing data...\")\n",
    "    await asyncio.sleep(2)  # Non-blocking sleep\n",
    "    print(\"Data processed.\")\n",
    "    end_time = time.time()\n",
    "    print(f\"[{datetime.now()}] Data processed. Time elapsed: {end_time - start_time:.2f} seconds.\")\n",
    "\n",
    "\n",
    "# Since Jupyter has an active event loop, you can await directly\n",
    "await asyncio.gather(fetch_data_async(), process_async())\n",
    "\n"
   ]
  },
  {
   "cell_type": "code",
   "execution_count": 3,
   "metadata": {},
   "outputs": [
    {
     "name": "stdout",
     "output_type": "stream",
     "text": [
      "[2025-09-04 21:53:05.567576] Fetching data...\n",
      "[2025-09-04 21:53:07.569471] Data retrieved. Time elapsed: 2.00 seconds.\n",
      "hello\n"
     ]
    }
   ],
   "source": [
    "# Defining an Asynchronous Function\n",
    "# To declare an async function:\n",
    "import asyncio\n",
    "import time\n",
    "from datetime import datetime\n",
    "\n",
    "async def fetch_data():\n",
    "    start_time = time.time()\n",
    "    print(f\"[{datetime.now()}] Fetching data...\")\n",
    "    await asyncio.sleep(2)  # Simulate an I/O operation\n",
    "    end_time = time.time()\n",
    "    print(f\"[{datetime.now()}] Data retrieved. Time elapsed: {end_time - start_time:.2f} seconds.\")\n",
    "\n",
    "# Run the asyncio event loop using await in an async function\n",
    "async def main():\n",
    "    await fetch_data()\n",
    "\n",
    "# Ensure asyncio.run() is called from the main entry point\n",
    "await main()\n",
    "print(\"hello\")\n"
   ]
  },
  {
   "cell_type": "code",
   "execution_count": 4,
   "metadata": {},
   "outputs": [
    {
     "name": "stdout",
     "output_type": "stream",
     "text": [
      "[2025-09-04 21:53:25.292627] Fetching data...\n",
      "[2025-09-04 21:53:25.292877] Fetching data...\n",
      "[2025-09-04 21:53:27.298351] Data retrieved. Time elapsed: 2.01 seconds.\n",
      "[2025-09-04 21:53:27.299960] Data retrieved. Time elapsed: 2.01 seconds.\n"
     ]
    }
   ],
   "source": [
    "# Awaiting Multiple Coroutines\n",
    "# To invoke multiple async functions and await all:\n",
    "async def main():\n",
    "    task1 = fetch_data()\n",
    "    task2 = fetch_data()\n",
    "    await asyncio.gather(task1, task2)\n",
    "\n",
    "# Ensure asyncio.run() is called from the main entry point\n",
    "# Use await main() directly in a Jupyter Notebook cell. \n",
    "# This approach leverages the existing event loop managed by Jupyter Notebook's IPython kernel.\n",
    "await main()\n",
    "\n",
    "# asyncio.run(main()) - Use this command for running the main function in python code (Ex: app.py)\n",
    "\n",
    "\n"
   ]
  },
  {
   "cell_type": "code",
   "execution_count": 5,
   "metadata": {},
   "outputs": [
    {
     "name": "stdout",
     "output_type": "stream",
     "text": [
      "[2025-09-04 21:53:43.831689] Fetching data...\n",
      "[2025-09-04 21:53:43.832087] Fetching data...\n",
      "[2025-09-04 21:53:45.845660] Data retrieved. Time elapsed: 2.01 seconds.\n",
      "[2025-09-04 21:53:45.845969] Data retrieved. Time elapsed: 2.01 seconds.\n"
     ]
    }
   ],
   "source": [
    "# Creating Tasks\n",
    "# To dispatch tasks:\n",
    "\n",
    "import asyncio\n",
    "import time\n",
    "from datetime import datetime\n",
    "\n",
    "async def fetch_data():\n",
    "    start_time = time.time()\n",
    "    print(f\"[{datetime.now()}] Fetching data...\")\n",
    "    await asyncio.sleep(2)  # Simulate an I/O operation\n",
    "    end_time = time.time()\n",
    "    print(f\"[{datetime.now()}] Data retrieved. Time elapsed: {end_time - start_time:.2f} seconds.\")\n",
    "\n",
    "# Run the asyncio event loop using await in an async function\n",
    "async def main():\n",
    "    task1 = asyncio.create_task(fetch_data())\n",
    "    task2 = asyncio.create_task(fetch_data())\n",
    "    await task1\n",
    "    await task2\n",
    "# await task1 and await task2: Asynchronously wait for task1 and task2 to complete. \n",
    "# This ensures that the program waits for both tasks to finish before proceeding.\n",
    "    \n",
    "\n",
    "# Ensure asyncio.run() is called from the main entry point\n",
    "await main()\n"
   ]
  },
  {
   "cell_type": "code",
   "execution_count": 6,
   "metadata": {},
   "outputs": [
    {
     "name": "stdout",
     "output_type": "stream",
     "text": [
      "[2025-09-04 21:54:03.164820] Fetching Houston...\n",
      "[2025-09-04 21:54:04.175364] Fetched Houston. Time elapsed: 1.01 seconds\n",
      "[2025-09-04 21:54:04.175669] Fetching Dallas...\n",
      "[2025-09-04 21:54:05.189162] Fetched Dallas. Time elapsed: 1.01 seconds\n",
      "[2025-09-04 21:54:05.190130] Fetching Austin...\n",
      "[2025-09-04 21:54:06.193073] Fetched Austin. Time elapsed: 1.00 seconds\n"
     ]
    }
   ],
   "source": [
    "# Asynchronous Iteration\n",
    "# To traverse through asynchronously, allowing time for other functions in between:\n",
    "\n",
    "import asyncio\n",
    "import time\n",
    "from datetime import datetime\n",
    "\n",
    "async def fetch_item(item):\n",
    "    start_time = time.time()\n",
    "    print(f\"[{datetime.now()}] Fetching {item}...\")\n",
    "    await asyncio.sleep(1)  # Simulate an asynchronous I/O operation\n",
    "    end_time = time.time()\n",
    "    print(f\"[{datetime.now()}] Fetched {item}. Time elapsed: {end_time - start_time:.2f} seconds\")\n",
    "\n",
    "async def main():\n",
    "    items = ['Houston', 'Dallas', 'Austin']\n",
    "    for item in items:\n",
    "        await fetch_item(item)\n",
    "\n",
    "# Execute the coroutine directly with await in an async function\n",
    "await main()\n",
    "\n"
   ]
  },
  {
   "cell_type": "code",
   "execution_count": 7,
   "metadata": {},
   "outputs": [
    {
     "name": "stdout",
     "output_type": "stream",
     "text": [
      "[2025-09-04 21:54:13.398042] Entering context\n",
      "[2025-09-04 21:54:14.399245] Within context\n",
      "[2025-09-04 21:54:14.399431] Entering abc context\n",
      "[2025-09-04 21:54:15.400314] After Exiting abc context\n",
      "[2025-09-04 21:54:15.400691] Exiting context\n",
      "[2025-09-04 21:54:16.415153] After Exiting context\n"
     ]
    }
   ],
   "source": [
    "# Using Asynchronous Context Managers\n",
    "# To ensure resources are managed within the bounds of an asynchronous function:\n",
    "\n",
    "import asyncio\n",
    "from datetime import datetime\n",
    "\n",
    "class AsyncContextManager:\n",
    "    async def __aenter__(self):\n",
    "        print(f\"[{datetime.now()}] Entering context\")  # Step 2.1\n",
    "        await asyncio.sleep(1)  # Step 2.2\n",
    "        return self  # Step 2.3 Returns the context manager instance\n",
    "\n",
    "    async def abc(self):\n",
    "        print(f\"[{datetime.now()}] Entering abc context\")  # Step 3.1\n",
    "        await asyncio.sleep(1)  # Step 3.2\n",
    "        print(f\"[{datetime.now()}] After Exiting abc context\")  # Step 3.3\n",
    "        \n",
    "    async def __aexit__(self, exc_type, exc_value, traceback):\n",
    "        print(f\"[{datetime.now()}] Exiting context\")  # Step 4.1\n",
    "        await asyncio.sleep(1)  # Step 4.2\n",
    "        print(f\"[{datetime.now()}] After Exiting context\")  # Step 4.3\n",
    "\n",
    "async def main():\n",
    "    async with AsyncContextManager() as context_manager:  # Step 1\n",
    "        print(f\"[{datetime.now()}] Within context\")  # Step 2.4\n",
    "        await context_manager.abc()  # Step 3\n",
    "\n",
    "# Run the main coroutine\n",
    "await main()\n",
    "\n",
    "\n",
    "\n"
   ]
  }
 ],
 "metadata": {
  "kernelspec": {
   "display_name": "Python 3",
   "language": "python",
   "name": "python3"
  },
  "language_info": {
   "codemirror_mode": {
    "name": "ipython",
    "version": 3
   },
   "file_extension": ".py",
   "mimetype": "text/x-python",
   "name": "python",
   "nbconvert_exporter": "python",
   "pygments_lexer": "ipython3",
   "version": "3.13.6"
  }
 },
 "nbformat": 4,
 "nbformat_minor": 2
}
